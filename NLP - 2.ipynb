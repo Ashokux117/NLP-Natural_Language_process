{
 "cells": [
  {
   "cell_type": "code",
   "execution_count": null,
   "id": "80dba6d6-575c-42a5-9a64-0a991813ecef",
   "metadata": {},
   "outputs": [],
   "source": [
    "!pip install nltk"
   ]
  },
  {
   "cell_type": "code",
   "execution_count": null,
   "id": "b58e0af8-f072-445c-ad34-5517e1c4455d",
   "metadata": {},
   "outputs": [],
   "source": [
    "words_to_stem=['give','giving','given', 'gave','thinking', 'loving', 'maximum']\n"
   ]
  },
  {
   "cell_type": "code",
   "execution_count": null,
   "id": "f0b65b96-1d3b-4fd4-b41b-11b5830cb477",
   "metadata": {},
   "outputs": [],
   "source": [
    "\n",
    "\n",
    "from nltk.stem import  wordnet\n",
    "from nltk.stem import WordNetLemmatizer\n",
    "words_lem = WordNetLemmatizer()"
   ]
  },
  {
   "cell_type": "code",
   "execution_count": null,
   "id": "c3810598-ff96-4bd3-9f97-ca1d70b59643",
   "metadata": {},
   "outputs": [],
   "source": [
    "words_to_stem"
   ]
  },
  {
   "cell_type": "code",
   "execution_count": null,
   "id": "00158129-4029-4db9-a231-244b7deb8021",
   "metadata": {},
   "outputs": [],
   "source": [
    "for word in words_to_stem:\n",
    "    print(words+ ' : ' +words_lem.lemmatize(words)) "
   ]
  },
  {
   "cell_type": "code",
   "execution_count": null,
   "id": "e7dc0ef6-abc3-40a8-a08f-e7b2ee88bc92",
   "metadata": {},
   "outputs": [],
   "source": [
    "# don't allow national language\n",
    "from nltk.corpus import stopwords\n",
    "stopwords.words('english')"
   ]
  },
  {
   "cell_type": "code",
   "execution_count": null,
   "id": "144d718e-85f8-4307-b921-e9b92c2af720",
   "metadata": {},
   "outputs": [],
   "source": [
    "len(stopwords.words('english'))"
   ]
  },
  {
   "cell_type": "code",
   "execution_count": null,
   "id": "40500979-e3b7-4312-a6ef-77f28d2f14d7",
   "metadata": {},
   "outputs": [],
   "source": [
    "stopwords.words('chinese')"
   ]
  },
  {
   "cell_type": "code",
   "execution_count": null,
   "id": "417b627e-89be-4018-9d66-bddfb1cd115b",
   "metadata": {},
   "outputs": [],
   "source": [
    "len(stopwords.words('chinese'))"
   ]
  },
  {
   "cell_type": "code",
   "execution_count": null,
   "id": "0db7fe40-e208-48df-8517-9e9d8f7bf20a",
   "metadata": {},
   "outputs": [],
   "source": [
    "stopwords.words('french')"
   ]
  },
  {
   "cell_type": "code",
   "execution_count": null,
   "id": "6b5b38d3-1c42-4518-aa8c-6f0c0f144d36",
   "metadata": {},
   "outputs": [],
   "source": [
    "len(stopwords.words('french'))"
   ]
  },
  {
   "cell_type": "code",
   "execution_count": null,
   "id": "9fc1059d-814c-4661-9f73-e37190867be2",
   "metadata": {},
   "outputs": [],
   "source": [
    "# do not allow local language\n",
    "stopwords.words('hindi')"
   ]
  },
  {
   "cell_type": "code",
   "execution_count": null,
   "id": "8ff78c6a-ed05-437c-8c36-11ac7d39f427",
   "metadata": {},
   "outputs": [],
   "source": [
    "stopwords.words('german')"
   ]
  },
  {
   "cell_type": "code",
   "execution_count": null,
   "id": "7dbc653b-507b-4ba4-894f-f662ffa7424c",
   "metadata": {},
   "outputs": [],
   "source": [
    "len(stopwords.words('german'))"
   ]
  },
  {
   "cell_type": "code",
   "execution_count": null,
   "id": "7e32ae45-e207-4743-8eac-82a74e7bef6f",
   "metadata": {},
   "outputs": [],
   "source": [
    "from nltk.tokenize import word_tokenize\n",
    "import nltk\n",
    "nltk.download('punkt')\n",
    "nltk.download('averaged_perceptron_tagger')\n",
    "sent = 'sam is natural wen it comes to drawing'\n",
    "sent_tokens = word_tokenize(sent)\n",
    "sent_tokens"
   ]
  },
  {
   "cell_type": "code",
   "execution_count": null,
   "id": "87c5da15-9a42-484b-9358-176edaacbfc5",
   "metadata": {},
   "outputs": [],
   "source": [
    "for token in sent_tokens:\n",
    "    print(nltk.pos_tag([token]))"
   ]
  },
  {
   "cell_type": "code",
   "execution_count": null,
   "id": "2536c243-e057-4ea0-9c1a-8a9d2d845a8d",
   "metadata": {},
   "outputs": [],
   "source": [
    "sent2 = 'john is eating adelicious cake'\n",
    "sent2_tokens = word_tokenize(sent2)\n",
    "sent2_tokens"
   ]
  },
  {
   "cell_type": "code",
   "execution_count": null,
   "id": "b78dc50c-2548-4bc7-8485-81c079affc69",
   "metadata": {},
   "outputs": [],
   "source": []
  },
  {
   "cell_type": "code",
   "execution_count": null,
   "id": "e6b2f9df-88e7-44da-b041-7a0ee88932c4",
   "metadata": {},
   "outputs": [],
   "source": []
  }
 ],
 "metadata": {
  "kernelspec": {
   "display_name": "Python [conda env:base] *",
   "language": "python",
   "name": "conda-base-py"
  },
  "language_info": {
   "codemirror_mode": {
    "name": "ipython",
    "version": 3
   },
   "file_extension": ".py",
   "mimetype": "text/x-python",
   "name": "python",
   "nbconvert_exporter": "python",
   "pygments_lexer": "ipython3",
   "version": "3.12.7"
  }
 },
 "nbformat": 4,
 "nbformat_minor": 5
}
